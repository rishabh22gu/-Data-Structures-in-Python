{
  "nbformat": 4,
  "nbformat_minor": 0,
  "metadata": {
    "colab": {
      "provenance": []
    },
    "kernelspec": {
      "name": "python3",
      "display_name": "Python 3"
    },
    "language_info": {
      "name": "python"
    }
  },
  "cells": [
    {
      "cell_type": "markdown",
      "source": [
        "Write a code to reverse a string"
      ],
      "metadata": {
        "id": "kdosYtq07QDR"
      }
    },
    {
      "cell_type": "code",
      "source": [
        "def reverse_string(s):\n",
        "    return s[::-1]\n",
        "\n",
        "print(reverse_string(\"hello\"))\n"
      ],
      "metadata": {
        "colab": {
          "base_uri": "https://localhost:8080/"
        },
        "id": "WaDGyPvY7p6X",
        "outputId": "bb1c2270-d88f-4c0d-9a6e-994f3875dc75"
      },
      "execution_count": null,
      "outputs": [
        {
          "output_type": "stream",
          "name": "stdout",
          "text": [
            "olleh\n"
          ]
        }
      ]
    },
    {
      "cell_type": "markdown",
      "source": [
        "Write a code to count the number of vowels in a string"
      ],
      "metadata": {
        "id": "rkSsVOhZ8S1y"
      }
    },
    {
      "cell_type": "code",
      "source": [
        "def count_vowels(s):\n",
        "    vowels = \"aeiouAEIOU\"\n",
        "    return sum(1 for char in s if char in vowels)\n",
        "\n",
        "print(count_vowels(\"hello world\"))\n"
      ],
      "metadata": {
        "colab": {
          "base_uri": "https://localhost:8080/"
        },
        "id": "ewcUWyf48Ugf",
        "outputId": "933c986b-9601-4d32-cd09-ad2a57aa3942"
      },
      "execution_count": null,
      "outputs": [
        {
          "output_type": "stream",
          "name": "stdout",
          "text": [
            "3\n"
          ]
        }
      ]
    },
    {
      "cell_type": "markdown",
      "source": [
        "Write a code to check if a given string is a palindrome or not"
      ],
      "metadata": {
        "id": "YwVBHb_B8fFu"
      }
    },
    {
      "cell_type": "code",
      "source": [
        "def is_palindrome(s):\n",
        "    s = s.lower().replace(\" \", \"\")\n",
        "    return s == s[::-1]\n",
        "\n",
        "print(is_palindrome(\"Madam\"))\n"
      ],
      "metadata": {
        "colab": {
          "base_uri": "https://localhost:8080/"
        },
        "id": "axBdngj68gKM",
        "outputId": "38704150-72e3-444b-838c-dd86ccec8710"
      },
      "execution_count": null,
      "outputs": [
        {
          "output_type": "stream",
          "name": "stdout",
          "text": [
            "True\n"
          ]
        }
      ]
    },
    {
      "cell_type": "markdown",
      "source": [
        "Write a code to check if two given strings are anagrams of each other"
      ],
      "metadata": {
        "id": "xbpI89n18sPT"
      }
    },
    {
      "cell_type": "code",
      "source": [
        "def are_anagrams(s1, s2):\n",
        "    return sorted(s1.replace(\" \", \"\").lower()) == sorted(s2.replace(\" \", \"\").lower())\n",
        "\n",
        "print(are_anagrams(\"listen\", \"silent\"))\n"
      ],
      "metadata": {
        "colab": {
          "base_uri": "https://localhost:8080/"
        },
        "id": "RdmxPS7u8tNQ",
        "outputId": "1ade7488-9144-4755-a0e7-9b1dcd48cf48"
      },
      "execution_count": null,
      "outputs": [
        {
          "output_type": "stream",
          "name": "stdout",
          "text": [
            "True\n"
          ]
        }
      ]
    },
    {
      "cell_type": "markdown",
      "source": [
        " Write a code to find all occurrences of a given substring within another string"
      ],
      "metadata": {
        "id": "LPl3yv7K80Wg"
      }
    },
    {
      "cell_type": "code",
      "source": [
        "def find_substring_occurrences(string, substring):\n",
        "    indices = []\n",
        "    index = string.find(substring)\n",
        "    while index != -1:\n",
        "        indices.append(index)\n",
        "        index = string.find(substring, index + 1)\n",
        "    return indices\n",
        "\n",
        "print(find_substring_occurrences(\"hello hello world\", \"hello\"))\n"
      ],
      "metadata": {
        "colab": {
          "base_uri": "https://localhost:8080/"
        },
        "id": "R6ziFXe18-qH",
        "outputId": "9ac70588-072f-42b8-e843-585fc7f9a40f"
      },
      "execution_count": null,
      "outputs": [
        {
          "output_type": "stream",
          "name": "stdout",
          "text": [
            "[0, 6]\n"
          ]
        }
      ]
    },
    {
      "cell_type": "markdown",
      "source": [
        "Write a code to perform basic string compression using the counts of repeated characters"
      ],
      "metadata": {
        "id": "zb7Bhxgc9Q8Z"
      }
    },
    {
      "cell_type": "code",
      "source": [
        "def string_compression(s):\n",
        "    compressed = []\n",
        "    count = 1\n",
        "    for i in range(1, len(s)):\n",
        "        if s[i] == s[i - 1]:\n",
        "            count += 1\n",
        "        else:\n",
        "            compressed.append(s[i - 1] + str(count))\n",
        "            count = 1\n",
        "    compressed.append(s[-1] + str(count))\n",
        "    return ''.join(compressed)\n",
        "\n",
        "print(string_compression(\"aaabbccc\"))\n"
      ],
      "metadata": {
        "colab": {
          "base_uri": "https://localhost:8080/"
        },
        "id": "TsCJeQQi9nid",
        "outputId": "2ce2e38a-5e4e-4cd4-b5f9-255a5ade2d23"
      },
      "execution_count": null,
      "outputs": [
        {
          "output_type": "stream",
          "name": "stdout",
          "text": [
            "a3b2c3\n"
          ]
        }
      ]
    },
    {
      "cell_type": "markdown",
      "source": [
        "Write a code to determine if a string has all unique characters"
      ],
      "metadata": {
        "id": "yQP3-cLi9srh"
      }
    },
    {
      "cell_type": "code",
      "source": [
        "def has_unique_characters(s):\n",
        "    return len(s) == len(set(s))\n",
        "\n",
        "print(has_unique_characters(\"hello\"))\n"
      ],
      "metadata": {
        "colab": {
          "base_uri": "https://localhost:8080/"
        },
        "id": "hwYlSIDj9xhS",
        "outputId": "d9ce7f3f-7886-4696-e70b-1dc1b213788c"
      },
      "execution_count": null,
      "outputs": [
        {
          "output_type": "stream",
          "name": "stdout",
          "text": [
            "False\n"
          ]
        }
      ]
    },
    {
      "cell_type": "markdown",
      "source": [
        " Write a code to convert a given string to uppercase or lowercase"
      ],
      "metadata": {
        "id": "JYXy9Xmq96u2"
      }
    },
    {
      "cell_type": "code",
      "source": [
        "def convert_case(s, to_upper=True):\n",
        "    return s.upper() if to_upper else s.lower()\n",
        "\n",
        "print(convert_case(\"hello\", to_upper=True))\n"
      ],
      "metadata": {
        "colab": {
          "base_uri": "https://localhost:8080/"
        },
        "id": "WnJrh6Dj98mu",
        "outputId": "495d6236-3a0a-458c-c813-732d0a20f3ea"
      },
      "execution_count": null,
      "outputs": [
        {
          "output_type": "stream",
          "name": "stdout",
          "text": [
            "HELLO\n"
          ]
        }
      ]
    },
    {
      "cell_type": "markdown",
      "source": [
        " Write a code to count the number of words in a string"
      ],
      "metadata": {
        "id": "4yayaX3A-HB9"
      }
    },
    {
      "cell_type": "code",
      "source": [
        "def count_words(s):\n",
        "    return len(s.split())\n",
        "\n",
        "print(count_words(\"hello world\"))\n"
      ],
      "metadata": {
        "colab": {
          "base_uri": "https://localhost:8080/"
        },
        "id": "-RQD0xT--LGI",
        "outputId": "42fef403-4719-417e-8cbf-a823675f1842"
      },
      "execution_count": null,
      "outputs": [
        {
          "output_type": "stream",
          "name": "stdout",
          "text": [
            "2\n"
          ]
        }
      ]
    },
    {
      "cell_type": "markdown",
      "source": [
        "Write a code to concatenate two strings without using the + operator"
      ],
      "metadata": {
        "id": "P6s0BO7p-SFX"
      }
    },
    {
      "cell_type": "code",
      "source": [
        "def concatenate_strings(s1, s2):\n",
        "    return f\"{s1}{s2}\"\n",
        "\n",
        "print(concatenate_strings(\"hello\", \"world\"))\n"
      ],
      "metadata": {
        "colab": {
          "base_uri": "https://localhost:8080/"
        },
        "id": "bMBsT1U0-TMB",
        "outputId": "d2c85c20-670c-41c6-db9b-9c30aa998a0f"
      },
      "execution_count": null,
      "outputs": [
        {
          "output_type": "stream",
          "name": "stdout",
          "text": [
            "helloworld\n"
          ]
        }
      ]
    },
    {
      "cell_type": "markdown",
      "source": [
        "Write a code to remove all occurrences of a specific element from a list"
      ],
      "metadata": {
        "id": "FtubAJpK_FXW"
      }
    },
    {
      "cell_type": "code",
      "source": [
        "def remove_element(lst, element):\n",
        "    return [x for x in lst if x != element]\n",
        "\n",
        "print(remove_element([1, 2, 3, 2, 4], 2))\n"
      ],
      "metadata": {
        "colab": {
          "base_uri": "https://localhost:8080/"
        },
        "id": "e71m5W8Q_GcK",
        "outputId": "62141b20-621e-41bd-eb92-11762f2fadfe"
      },
      "execution_count": null,
      "outputs": [
        {
          "output_type": "stream",
          "name": "stdout",
          "text": [
            "[1, 3, 4]\n"
          ]
        }
      ]
    },
    {
      "cell_type": "markdown",
      "source": [
        "Implement a code to find the second largest number in a given list of integers"
      ],
      "metadata": {
        "id": "ePNFVqOu_cDC"
      }
    },
    {
      "cell_type": "code",
      "source": [
        "def second_largest(lst):\n",
        "    unique_sorted = sorted(set(lst), reverse=True)\n",
        "    return unique_sorted[1] if len(unique_sorted) > 1 else None\n",
        "\n",
        "print(second_largest([1, 2, 3, 4, 5]))\n"
      ],
      "metadata": {
        "colab": {
          "base_uri": "https://localhost:8080/"
        },
        "id": "vfT0E7Mk_dLK",
        "outputId": "84a0016c-7342-4f67-d354-e188b4421fa2"
      },
      "execution_count": null,
      "outputs": [
        {
          "output_type": "stream",
          "name": "stdout",
          "text": [
            "4\n"
          ]
        }
      ]
    },
    {
      "cell_type": "markdown",
      "source": [
        "Create a code to count the occurrences of each element in a list and return a dictionary with elements as\n",
        "keys and their counts as values"
      ],
      "metadata": {
        "id": "aH3U71UG_keM"
      }
    },
    {
      "cell_type": "code",
      "source": [
        "def count_elements(lst):\n",
        "    return {x: lst.count(x) for x in set(lst)}\n",
        "\n",
        "print(count_elements([1, 2, 2, 3, 3, 3]))\n"
      ],
      "metadata": {
        "colab": {
          "base_uri": "https://localhost:8080/"
        },
        "id": "joS8-aGf_ouO",
        "outputId": "3ecfd17d-a0e3-4525-b719-8e0c2b313fac"
      },
      "execution_count": null,
      "outputs": [
        {
          "output_type": "stream",
          "name": "stdout",
          "text": [
            "{1: 1, 2: 2, 3: 3}\n"
          ]
        }
      ]
    },
    {
      "cell_type": "markdown",
      "source": [
        "Write a code to reverse a list in-place without using any built-in reverse functions"
      ],
      "metadata": {
        "id": "JS4XVTBJ_1VA"
      }
    },
    {
      "cell_type": "code",
      "source": [
        "def reverse_list(lst):\n",
        "    for i in range(len(lst) // 2):\n",
        "        lst[i], lst[-i - 1] = lst[-i - 1], lst[i]\n",
        "    return lst\n",
        "\n",
        "print(reverse_list([1, 2, 3, 4]))\n"
      ],
      "metadata": {
        "colab": {
          "base_uri": "https://localhost:8080/"
        },
        "id": "zghu1qiZ_4M1",
        "outputId": "1cdd1ef8-74bf-476b-ca5d-27924c7186f4"
      },
      "execution_count": null,
      "outputs": [
        {
          "output_type": "stream",
          "name": "stdout",
          "text": [
            "[4, 3, 2, 1]\n"
          ]
        }
      ]
    },
    {
      "cell_type": "markdown",
      "source": [
        " Implement a code to find and remove duplicates from a list while preserving the original order of\n",
        "elements"
      ],
      "metadata": {
        "id": "kP8pig8X_9A3"
      }
    },
    {
      "cell_type": "code",
      "source": [
        "def remove_duplicates(lst):\n",
        "    seen = set()\n",
        "    return [x for x in lst if not (x in seen or seen.add(x))]\n",
        "\n",
        "print(remove_duplicates([1, 2, 2, 3, 4, 4]))\n"
      ],
      "metadata": {
        "colab": {
          "base_uri": "https://localhost:8080/"
        },
        "id": "jZeeJcZf__Wv",
        "outputId": "83d10e0b-39fe-482e-bb64-8aa0a2da9c4c"
      },
      "execution_count": null,
      "outputs": [
        {
          "output_type": "stream",
          "name": "stdout",
          "text": [
            "[1, 2, 3, 4]\n"
          ]
        }
      ]
    },
    {
      "cell_type": "markdown",
      "source": [
        "Create a code to check if a given list is sorted (either in ascending or descending order) or not"
      ],
      "metadata": {
        "id": "kp58ylCUAIGB"
      }
    },
    {
      "cell_type": "code",
      "source": [
        "def is_sorted(lst):\n",
        "    return lst == sorted(lst) or lst == sorted(lst, reverse=True)\n",
        "\n",
        "print(is_sorted([1, 2, 3]))\n"
      ],
      "metadata": {
        "colab": {
          "base_uri": "https://localhost:8080/"
        },
        "id": "G3mcd96_AJS6",
        "outputId": "062e06bf-a105-466f-e498-d16523d1a830"
      },
      "execution_count": null,
      "outputs": [
        {
          "output_type": "stream",
          "name": "stdout",
          "text": [
            "True\n"
          ]
        }
      ]
    },
    {
      "cell_type": "markdown",
      "source": [
        "Write a code to merge two sorted lists into a single sorted list"
      ],
      "metadata": {
        "id": "lu24N8DIAPN_"
      }
    },
    {
      "cell_type": "code",
      "source": [
        "def merge_sorted_lists(lst1, lst2):\n",
        "    return sorted(lst1 + lst2)\n",
        "\n",
        "print(merge_sorted_lists([1, 3, 5], [2, 4, 6]))\n"
      ],
      "metadata": {
        "colab": {
          "base_uri": "https://localhost:8080/"
        },
        "id": "GgcDSQeCAVrp",
        "outputId": "0dc635f5-df9d-489c-9d67-406bc32addb6"
      },
      "execution_count": null,
      "outputs": [
        {
          "output_type": "stream",
          "name": "stdout",
          "text": [
            "[1, 2, 3, 4, 5, 6]\n"
          ]
        }
      ]
    },
    {
      "cell_type": "markdown",
      "source": [
        "Implement a code to find the intersection of two given lists"
      ],
      "metadata": {
        "id": "RsuKf7sZAZ_e"
      }
    },
    {
      "cell_type": "code",
      "source": [
        "def union_lists(lst1, lst2):\n",
        "    return list(set(lst1) | set(lst2))\n",
        "\n",
        "print(union_lists([1, 2, 3], [3, 4, 5]))\n"
      ],
      "metadata": {
        "colab": {
          "base_uri": "https://localhost:8080/"
        },
        "id": "sdx1NGBoAePw",
        "outputId": "eedb1b64-0fb5-4a82-bcd6-972601090b1f"
      },
      "execution_count": null,
      "outputs": [
        {
          "output_type": "stream",
          "name": "stdout",
          "text": [
            "[1, 2, 3, 4, 5]\n"
          ]
        }
      ]
    },
    {
      "cell_type": "markdown",
      "source": [
        " Create a code to find the union of two lists without duplicates"
      ],
      "metadata": {
        "id": "jVW1m0RxAmo2"
      }
    },
    {
      "cell_type": "code",
      "source": [
        "import random\n",
        "\n",
        "def shuffle_list(lst):\n",
        "    for i in range(len(lst) - 1, 0, -1):\n",
        "        j = random.randint(0, i)\n",
        "        lst[i], lst[j] = lst[j], lst[i]\n",
        "    return lst\n",
        "\n",
        "print(shuffle_list([1, 2, 3, 4, 5]))\n"
      ],
      "metadata": {
        "colab": {
          "base_uri": "https://localhost:8080/"
        },
        "id": "3sZP4lT4Anz0",
        "outputId": "9ae34f33-6d26-4ce2-dd36-652cd0061a3d"
      },
      "execution_count": null,
      "outputs": [
        {
          "output_type": "stream",
          "name": "stdout",
          "text": [
            "[3, 4, 5, 2, 1]\n"
          ]
        }
      ]
    },
    {
      "cell_type": "markdown",
      "source": [
        "Write a code to shuffle a given list randomly without using any built-in shuffle functions"
      ],
      "metadata": {
        "id": "zj9nlE7hA-ce"
      }
    },
    {
      "cell_type": "code",
      "source": [
        "def common_elements(tup1, tup2):\n",
        "    return tuple(set(tup1) & set(tup2))\n",
        "\n",
        "print(common_elements((1, 2, 3), (2, 3, 4)))\n"
      ],
      "metadata": {
        "colab": {
          "base_uri": "https://localhost:8080/"
        },
        "id": "mdBUaD6sA_Rt",
        "outputId": "a1bbed7e-88e7-4a97-b528-22aa7f555c02"
      },
      "execution_count": null,
      "outputs": [
        {
          "output_type": "stream",
          "name": "stdout",
          "text": [
            "(2, 3)\n"
          ]
        }
      ]
    },
    {
      "cell_type": "markdown",
      "source": [
        " Write a code that takes two tuples as input and returns a new tuple containing elements that are\n",
        "common to both input tuples"
      ],
      "metadata": {
        "id": "YQijGfekBEA8"
      }
    },
    {
      "cell_type": "code",
      "source": [
        "def intersection_of_sets():\n",
        "    set1 = set(map(int, input(\"Enter the first set of integers: \").split(',')))\n",
        "    set2 = set(map(int, input(\"Enter the second set of integers: \").split(',')))\n",
        "    return set1 & set2\n",
        "\n",
        "print(intersection_of_sets())\n"
      ],
      "metadata": {
        "colab": {
          "base_uri": "https://localhost:8080/"
        },
        "id": "bhn9UXhUBKl5",
        "outputId": "69e6d414-56b9-4521-c799-e3dfb91058a5"
      },
      "execution_count": null,
      "outputs": [
        {
          "output_type": "stream",
          "name": "stdout",
          "text": [
            "Enter the first set of integers: 2\n",
            "Enter the second set of integers: 3\n",
            "set()\n"
          ]
        }
      ]
    },
    {
      "cell_type": "markdown",
      "source": [
        " Create a code that prompts the user to enter two sets of integers separated by commas. Then, print the\n",
        "intersection of these two sets"
      ],
      "metadata": {
        "id": "pzEYFhvpBSbo"
      }
    },
    {
      "cell_type": "code",
      "source": [
        "def concatenate_tuples(tup1, tup2):\n",
        "    return tup1 + tup2\n",
        "\n",
        "print(concatenate_tuples((1, 2), (3, 4)))\n"
      ],
      "metadata": {
        "colab": {
          "base_uri": "https://localhost:8080/"
        },
        "id": "Y-ymXCSaBYUP",
        "outputId": "c0f66b76-ab32-4a49-f1eb-6e03e9728f80"
      },
      "execution_count": null,
      "outputs": [
        {
          "output_type": "stream",
          "name": "stdout",
          "text": [
            "(1, 2, 3, 4)\n"
          ]
        }
      ]
    },
    {
      "cell_type": "markdown",
      "source": [
        "Write a code to concatenate two tuples. The function should take two tuples as input and return a new\n",
        "tuple containing elements from both input tuples"
      ],
      "metadata": {
        "id": "il1-3CbjCqEH"
      }
    },
    {
      "cell_type": "code",
      "source": [
        "def difference_of_sets():\n",
        "    set1 = set(input(\"Enter the first set of strings: \").split(','))\n",
        "    set2 = set(input(\"Enter the second set of strings: \").split(','))\n",
        "    return set1 - set2\n",
        "\n",
        "print(difference_of_sets())\n"
      ],
      "metadata": {
        "colab": {
          "base_uri": "https://localhost:8080/"
        },
        "id": "PwwjKN3ICvJO",
        "outputId": "a80aee7b-7e1d-4342-e60d-032cbdd4b96f"
      },
      "execution_count": null,
      "outputs": [
        {
          "output_type": "stream",
          "name": "stdout",
          "text": [
            "Enter the first set of strings: ''ajay''\n",
            "Enter the second set of strings: ''rishabh''\n",
            "{\"''ajay''\"}\n"
          ]
        }
      ]
    },
    {
      "cell_type": "markdown",
      "source": [
        " Develop a code that prompts the user to input two sets of strings. Then, print the elements that are\n",
        "present in the first set but not in the second set"
      ],
      "metadata": {
        "id": "MfjQ11kmDVcS"
      }
    },
    {
      "cell_type": "code",
      "source": [
        "def tuple_range(tup, start, end):\n",
        "    return tup[start:end]\n",
        "\n",
        "print(tuple_range((1, 2, 3, 4, 5), 1, 4))\n"
      ],
      "metadata": {
        "colab": {
          "base_uri": "https://localhost:8080/"
        },
        "id": "EjYOm9V9Dwu5",
        "outputId": "c50fdcaa-2269-4bea-bf7f-0a41799dac10"
      },
      "execution_count": null,
      "outputs": [
        {
          "output_type": "stream",
          "name": "stdout",
          "text": [
            "(2, 3, 4)\n"
          ]
        }
      ]
    },
    {
      "cell_type": "markdown",
      "source": [
        "Create a code that takes a tuple and two integers as input. The function should return a new tuple\n",
        "containing elements from the original tuple within the specified range of indices"
      ],
      "metadata": {
        "id": "juI0rFMcD3MV"
      }
    },
    {
      "cell_type": "code",
      "source": [
        "def union_of_sets():\n",
        "    set1 = set(input(\"Enter the first set of characters: \").split(','))\n",
        "    set2 = set(input(\"Enter the second set of characters: \").split(','))\n",
        "    return set1 | set2\n",
        "\n",
        "print(union_of_sets())\n"
      ],
      "metadata": {
        "colab": {
          "base_uri": "https://localhost:8080/"
        },
        "id": "NOqYVnj1D7vD",
        "outputId": "7b82a16d-5a28-4608-87dd-fc8251c4737f"
      },
      "execution_count": null,
      "outputs": [
        {
          "output_type": "stream",
          "name": "stdout",
          "text": [
            "Enter the first set of characters: r\n",
            "Enter the second set of characters: s\n",
            "{'r', 's'}\n"
          ]
        }
      ]
    },
    {
      "cell_type": "markdown",
      "source": [
        "Write a code that prompts the user to input two sets of characters. Then, print the union of these two sets"
      ],
      "metadata": {
        "id": "HEP9Jh0bEFWb"
      }
    },
    {
      "cell_type": "code",
      "source": [
        "def max_min_tuple(tup):\n",
        "    return max(tup), min(tup)\n",
        "\n",
        "print(max_min_tuple((1, 2, 3, 4, 5)))\n"
      ],
      "metadata": {
        "colab": {
          "base_uri": "https://localhost:8080/"
        },
        "id": "k02MZTbFEOkz",
        "outputId": "fd7f3bbc-044e-42c5-a015-a2b531c49239"
      },
      "execution_count": null,
      "outputs": [
        {
          "output_type": "stream",
          "name": "stdout",
          "text": [
            "(5, 1)\n"
          ]
        }
      ]
    },
    {
      "cell_type": "markdown",
      "source": [
        "Develop a code that takes a tuple of integers as input. The function should return the maximum and\n",
        "minimum values from the tuple using tuple unpacking"
      ],
      "metadata": {
        "id": "0xXNqWvAETe-"
      }
    },
    {
      "cell_type": "code",
      "source": [
        "def set_operations(set1, set2):\n",
        "    return {\n",
        "        \"Union\": set1 | set2,\n",
        "        \"Intersection\": set1 & set2,\n",
        "        \"Difference\": set1 - set2\n",
        "    }\n",
        "\n",
        "print(set_operations({1, 2, 3}, {2, 3, 4}))\n"
      ],
      "metadata": {
        "colab": {
          "base_uri": "https://localhost:8080/"
        },
        "id": "C1udPLaJEYPC",
        "outputId": "23b0a672-503a-4ace-b5b8-070a1424da27"
      },
      "execution_count": null,
      "outputs": [
        {
          "output_type": "stream",
          "name": "stdout",
          "text": [
            "{'Union': {1, 2, 3, 4}, 'Intersection': {2, 3}, 'Difference': {1}}\n"
          ]
        }
      ]
    },
    {
      "cell_type": "markdown",
      "source": [
        "Create a code that defines two sets of integers. Then, print the union, intersection, and difference of these\n",
        "two sets&"
      ],
      "metadata": {
        "id": "U1rjoH4AEeXU"
      }
    },
    {
      "cell_type": "code",
      "source": [
        "def count_in_tuple(tup, element):\n",
        "    return tup.count(element)\n",
        "\n",
        "print(count_in_tuple((1, 2, 2, 3), 2))\n"
      ],
      "metadata": {
        "colab": {
          "base_uri": "https://localhost:8080/"
        },
        "id": "P7J-kAT4ElkC",
        "outputId": "3a091cf5-122b-4035-e352-a0695d9d7cca"
      },
      "execution_count": null,
      "outputs": [
        {
          "output_type": "stream",
          "name": "stdout",
          "text": [
            "2\n"
          ]
        }
      ]
    },
    {
      "cell_type": "markdown",
      "source": [
        "Write a code that takes a tuple and an element as input. The function should return the count of\n",
        "occurrences of the given element in the tuple"
      ],
      "metadata": {
        "id": "VkGZHdZ1En2u"
      }
    },
    {
      "cell_type": "code",
      "source": [
        "def symmetric_difference_of_sets():\n",
        "    set1 = set(input(\"Enter the first set of strings: \").split(','))\n",
        "    set2 = set(input(\"Enter the second set of strings: \").split(','))\n",
        "    return set1 ^ set2\n",
        "\n",
        "print(symmetric_difference_of_sets())\n"
      ],
      "metadata": {
        "colab": {
          "base_uri": "https://localhost:8080/"
        },
        "id": "GYRU2qEOEs5C",
        "outputId": "0b9ffbdf-270f-4bdf-be52-1c117b1dfb51"
      },
      "execution_count": null,
      "outputs": [
        {
          "output_type": "stream",
          "name": "stdout",
          "text": [
            "Enter the first set of strings: ''rama''\n",
            "Enter the second set of strings: ''radhe''\n",
            "{\"''radhe''\", \"''rama''\"}\n"
          ]
        }
      ]
    },
    {
      "cell_type": "markdown",
      "source": [
        " Develop a code that prompts the user to input two sets of strings. Then, print the symmetric difference of\n",
        "these two sets"
      ],
      "metadata": {
        "id": "waK0o0u8E5Qi"
      }
    },
    {
      "cell_type": "code",
      "source": [
        "def word_frequency(words):\n",
        "    return {word: words.count(word) for word in set(words)}\n",
        "\n",
        "print(word_frequency([\"apple\", \"banana\", \"apple\", \"orange\", \"banana\"]))\n"
      ],
      "metadata": {
        "colab": {
          "base_uri": "https://localhost:8080/"
        },
        "id": "CqxXsKboFB9n",
        "outputId": "0b5d1bb2-1d8a-4cdb-e807-d924a22662e1"
      },
      "execution_count": null,
      "outputs": [
        {
          "output_type": "stream",
          "name": "stdout",
          "text": [
            "{'banana': 2, 'orange': 1, 'apple': 2}\n"
          ]
        }
      ]
    },
    {
      "cell_type": "markdown",
      "source": [
        "Write a code that takes a list of words as input and returns a dictionary where the keys are unique words\n",
        "and the values are the frequencies of those words in the input list"
      ],
      "metadata": {
        "id": "fO9J2kivFHD3"
      }
    },
    {
      "cell_type": "code",
      "source": [
        "def merge_dicts(dict1, dict2):\n",
        "    result = dict1.copy()\n",
        "    for key, value in dict2.items():\n",
        "        result[key] = result.get(key, 0) + value\n",
        "    return result\n",
        "\n",
        "print(merge_dicts({\"a\": 1, \"b\": 2}, {\"b\": 3, \"c\": 4}))\n"
      ],
      "metadata": {
        "colab": {
          "base_uri": "https://localhost:8080/"
        },
        "id": "qUh_qRb_FLbj",
        "outputId": "1136f828-1e87-4090-fa85-981edde891c3"
      },
      "execution_count": null,
      "outputs": [
        {
          "output_type": "stream",
          "name": "stdout",
          "text": [
            "{'a': 1, 'b': 5, 'c': 4}\n"
          ]
        }
      ]
    },
    {
      "cell_type": "markdown",
      "source": [
        "Write a code that takes two dictionaries as input and merges them into a single dictionary. If there are\n",
        "common keys, the values should be added together"
      ],
      "metadata": {
        "id": "hFNVniaaFV9T"
      }
    },
    {
      "cell_type": "code",
      "source": [
        "def access_nested_dict(dct, keys):\n",
        "    for key in keys:\n",
        "        dct = dct.get(key)\n",
        "        if dct is None:\n",
        "            return None\n",
        "    return dct\n",
        "\n",
        "nested_dict = {\"a\": {\"b\": {\"c\": 42}}}\n",
        "print(access_nested_dict(nested_dict, [\"a\", \"b\", \"c\"]))\n"
      ],
      "metadata": {
        "colab": {
          "base_uri": "https://localhost:8080/"
        },
        "id": "9FhQ7mpWFb_q",
        "outputId": "8bd7c971-6a05-41e5-8e55-13e85f4c6a73"
      },
      "execution_count": null,
      "outputs": [
        {
          "output_type": "stream",
          "name": "stdout",
          "text": [
            "42\n"
          ]
        }
      ]
    },
    {
      "cell_type": "markdown",
      "source": [
        "Write a code to access a value in a nested dictionary. The function should take the dictionary and a list of\n",
        "keys as input, and return the corresponding value. If any of the keys do not exist in the dictionary, the\n",
        "function should return None&"
      ],
      "metadata": {
        "id": "TSZbE6oAFgCQ"
      }
    },
    {
      "cell_type": "code",
      "source": [
        "def sort_dict_by_values(dct, ascending=True):\n",
        "    return dict(sorted(dct.items(), key=lambda item: item[1], reverse=not ascending))\n",
        "\n",
        "print(sort_dict_by_values({\"a\": 3, \"b\": 1, \"c\": 2}))\n"
      ],
      "metadata": {
        "colab": {
          "base_uri": "https://localhost:8080/"
        },
        "id": "ObpEu2UJFkR9",
        "outputId": "967ea471-f7df-4ff3-bdcb-0066e7ed7040"
      },
      "execution_count": null,
      "outputs": [
        {
          "output_type": "stream",
          "name": "stdout",
          "text": [
            "{'b': 1, 'c': 2, 'a': 3}\n"
          ]
        }
      ]
    },
    {
      "cell_type": "markdown",
      "source": [
        "Write a code that takes a dictionary as input and returns a sorted version of it based on the values. You\n",
        "can choose whether to sort in ascending or descending order"
      ],
      "metadata": {
        "id": "xhByJCThFpE_"
      }
    },
    {
      "cell_type": "code",
      "source": [
        "def invert_dict(dct):\n",
        "    inverted = {}\n",
        "    for key, value in dct.items():\n",
        "        inverted.setdefault(value, []).append(key)\n",
        "    return inverted\n",
        "\n",
        "print(invert_dict({\"a\": 1, \"b\": 2, \"c\": 1}))\n"
      ],
      "metadata": {
        "colab": {
          "base_uri": "https://localhost:8080/"
        },
        "id": "D4bSYOSNFubo",
        "outputId": "adddc164-7362-49ff-e528-27e143847a7c"
      },
      "execution_count": null,
      "outputs": [
        {
          "output_type": "stream",
          "name": "stdout",
          "text": [
            "{1: ['a', 'c'], 2: ['b']}\n"
          ]
        }
      ]
    }
  ]
}